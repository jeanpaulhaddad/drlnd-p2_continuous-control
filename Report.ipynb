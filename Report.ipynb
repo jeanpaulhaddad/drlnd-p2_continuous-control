{
 "cells": [
  {
   "cell_type": "markdown",
   "metadata": {},
   "source": [
    "# Continuous Control\n",
    "\n",
    "---\n",
    "\n",
    "You are welcome to use this coding environment to train your agent for the project.  Follow the instructions below to get started!\n",
    "\n",
    "### 1. Start the Environment\n",
    "\n",
    "Run the next code cell to install a few packages.  This line will take a few minutes to run!"
   ]
  },
  {
   "cell_type": "code",
   "execution_count": 1,
   "metadata": {},
   "outputs": [],
   "source": [
    "#!pip -q install ./python"
   ]
  },
  {
   "cell_type": "markdown",
   "metadata": {},
   "source": [
    "The environments corresponding to both versions of the environment are already saved in the Workspace and can be accessed at the file paths provided below.  \n",
    "\n",
    "Please select one of the two options below for loading the environment."
   ]
  },
  {
   "cell_type": "code",
   "execution_count": 2,
   "metadata": {},
   "outputs": [
    {
     "name": "stderr",
     "output_type": "stream",
     "text": [
      "INFO:unityagents:\n",
      "'Academy' started successfully!\n",
      "Unity Academy name: Academy\n",
      "        Number of Brains: 1\n",
      "        Number of External Brains : 1\n",
      "        Lesson number : 0\n",
      "        Reset Parameters :\n",
      "\t\tgoal_speed -> 1.0\n",
      "\t\tgoal_size -> 5.0\n",
      "Unity brain name: ReacherBrain\n",
      "        Number of Visual Observations (per agent): 0\n",
      "        Vector Observation space type: continuous\n",
      "        Vector Observation space size (per agent): 33\n",
      "        Number of stacked Vector Observation: 1\n",
      "        Vector Action space type: continuous\n",
      "        Vector Action space size (per agent): 4\n",
      "        Vector Action descriptions: , , , \n"
     ]
    }
   ],
   "source": [
    "from unityagents import UnityEnvironment\n",
    "import numpy as np\n",
    "import torch\n",
    "from collections import deque\n",
    "import matplotlib.pyplot as plt\n",
    "%matplotlib inline\n",
    "\n",
    "from ddpg_agent import Agent\n",
    "# select this option to load version 1 (with a single agent) of the environment\n",
    "#env = UnityEnvironment(file_name='/data/Reacher_One_Linux_NoVis/Reacher_One_Linux_NoVis.x86_64')\n",
    "\n",
    "# select this option to load version 2 (with 20 agents) of the environment\n",
    "env = UnityEnvironment(file_name='.\\Reacher_Windows_x86_64\\Reacher.app')"
   ]
  },
  {
   "cell_type": "markdown",
   "metadata": {},
   "source": [
    "Environments contain **_brains_** which are responsible for deciding the actions of their associated agents. Here we check for the first brain available, and set it as the default brain we will be controlling from Python."
   ]
  },
  {
   "cell_type": "code",
   "execution_count": 3,
   "metadata": {},
   "outputs": [],
   "source": [
    "# get the default brain\n",
    "brain_name = env.brain_names[0]\n",
    "brain = env.brains[brain_name]"
   ]
  },
  {
   "cell_type": "markdown",
   "metadata": {},
   "source": [
    "### 2. Examine the State and Action Spaces\n",
    "\n",
    "Run the code cell below to print some information about the environment."
   ]
  },
  {
   "cell_type": "code",
   "execution_count": 4,
   "metadata": {},
   "outputs": [
    {
     "name": "stdout",
     "output_type": "stream",
     "text": [
      "Number of agents: 20\n",
      "Size of each action: 4\n",
      "There are 20 agents. Each observes a state with length: 33\n",
      "The state for the first agent looks like: [ 0.00000000e+00 -4.00000000e+00  0.00000000e+00  1.00000000e+00\n",
      " -0.00000000e+00 -0.00000000e+00 -4.37113883e-08  0.00000000e+00\n",
      "  0.00000000e+00  0.00000000e+00  0.00000000e+00  0.00000000e+00\n",
      "  0.00000000e+00  0.00000000e+00 -1.00000000e+01  0.00000000e+00\n",
      "  1.00000000e+00 -0.00000000e+00 -0.00000000e+00 -4.37113883e-08\n",
      "  0.00000000e+00  0.00000000e+00  0.00000000e+00  0.00000000e+00\n",
      "  0.00000000e+00  0.00000000e+00  5.75471878e+00 -1.00000000e+00\n",
      "  5.55726624e+00  0.00000000e+00  1.00000000e+00  0.00000000e+00\n",
      " -1.68164849e-01]\n"
     ]
    }
   ],
   "source": [
    "# reset the environment\n",
    "env_info = env.reset(train_mode=True)[brain_name]\n",
    "\n",
    "# number of agents\n",
    "num_agents = len(env_info.agents)\n",
    "print('Number of agents:', num_agents)\n",
    "\n",
    "# size of each action\n",
    "action_size = brain.vector_action_space_size\n",
    "print('Size of each action:', action_size)\n",
    "\n",
    "# examine the state space \n",
    "states = env_info.vector_observations\n",
    "state_size = states.shape[1]\n",
    "print('There are {} agents. Each observes a state with length: {}'.format(states.shape[0], state_size))\n",
    "print('The state for the first agent looks like:', states[0])"
   ]
  },
  {
   "cell_type": "markdown",
   "metadata": {},
   "source": [
    "### 3. Learning Algorithm\n",
    "\n",
    "In the next code cell, you will use the Python API to control the agent and receive feedback from the environment.\n",
    "\n",
    "Note that **in this coding environment, you will not be able to watch the agents while they are training**, and you should set `train_mode=True` to restart the environment."
   ]
  },
  {
   "cell_type": "code",
   "execution_count": 5,
   "metadata": {},
   "outputs": [
    {
     "name": "stdout",
     "output_type": "stream",
     "text": [
      "Episode 10\tScore: 2.05\tAverage Score over window: 1.06\n",
      "Episode 20\tScore: 6.17\tAverage Score over window: 2.69\n",
      "Episode 30\tScore: 16.33\tAverage Score over window: 5.83\n",
      "Episode 40\tScore: 30.90\tAverage Score over window: 10.86\n",
      "Episode 50\tScore: 35.09\tAverage Score over window: 15.35\n",
      "Episode 60\tScore: 35.71\tAverage Score over window: 18.73\n",
      "Episode 70\tScore: 37.55\tAverage Score over window: 21.30\n",
      "Episode 80\tScore: 37.60\tAverage Score over window: 23.31\n",
      "Episode 90\tScore: 37.17\tAverage Score over window: 24.90\n",
      "Episode 100\tScore: 37.51\tAverage Score over window: 26.16\n",
      "Episode 110\tScore: 37.69\tAverage Score over window: 29.79\n",
      "Episode 111\tScore: 37.98\tAverage Score over window: 30.15\n",
      "Environment solved in 11 episodes!\tAverage Score: 30.15\n"
     ]
    },
    {
     "data": {
      "image/png": "[encoded data removed]",
      "text/plain": [
       "<Figure size 432x288 with 1 Axes>"
      ]
     },
     "metadata": {
      "needs_background": "light"
     },
     "output_type": "display_data"
    }
   ],
   "source": [
    "env_info = env.reset(train_mode=True)[brain_name]\n",
    "num_agents = len(env_info.agents)\n",
    "agent = Agent(state_size, action_size, num_agents, random_seed=11)\n",
    "#import pdb; \n",
    "def ddpg(n_episodes=1000):\n",
    "    \"\"\"Deep deterministic policy gradient.\n",
    "    \n",
    "    Params\n",
    "    ======\n",
    "        n_episodes (int): maximum number of training episodes\n",
    "    \"\"\"\n",
    "    N=100                            # Contains size of scoring window\n",
    "    scores = []                      # list containing scores from each episode\n",
    "    scores_window = deque(maxlen=N)  # last 100 scores\n",
    "\n",
    "    for i_episode in range(1, n_episodes+1):\n",
    "        env_info = env.reset(train_mode=True)[brain_name] # reset the environment\n",
    "        agent.reset()                                     # reset the agent(s)\n",
    "        state = env_info.vector_observations              # get the current state\n",
    "        score = 0                                         # initialize/reset score\n",
    "        max_t = 1000                                      # stop trajectory after max_t steps\n",
    "        learn_t = 10                                      # call learning function after learn_t steps\n",
    "        \n",
    "        for t_step in range(max_t):            \n",
    "            action = agent.act(state)                   # agent takes action\n",
    "            env_info = env.step(action)[brain_name]     # send the action to the environment\n",
    "            next_state = env_info.vector_observations   # get the next state\n",
    "            reward = env_info.rewards                   # get the reward\n",
    "            done = env_info.local_done                  # see if episode has finished\n",
    "            for experience_tuple in zip(state, action, reward, next_state, done):\n",
    "                agent.step(*experience_tuple)           # update agent with experience tuple\n",
    "            state = next_state                          # update state\n",
    "            score += np.sum(reward)                     # update total score\n",
    "            if (t_step % learn_t) == 0: agent.perform_learning()\n",
    "            if np.any(done): break\n",
    "\n",
    "        score /= num_agents\n",
    "        scores_window.append(score)       # save most recent score\n",
    "        scores.append(score)              # save most recent score\n",
    "\n",
    "        # Print Score while training\n",
    "        print('\\rEpisode {}\\tScore: {:.2f}\\tAverage Score over window: {:.2f}'.format(i_episode, score, np.mean(scores_window)), end=\"\")\n",
    "        if i_episode % 10 == 0:\n",
    "            print('\\rEpisode {}\\tScore: {:.2f}\\tAverage Score over window: {:.2f}'.format(i_episode, score, np.mean(scores_window)))\n",
    "        # Stop when required average score of 30 is reached\n",
    "        if np.mean(scores_window) >= 30.0:\n",
    "            print('\\nEnvironment solved in {:d} episodes!\\tAverage Score: {:.2f}'.format(i_episode-N, np.mean(scores_window)))           \n",
    "            torch.save(agent.actor_local.state_dict(), 'weights_actor.pth')\n",
    "            torch.save(agent.critic_local.state_dict(), 'weights_critic.pth')\n",
    "            break\n",
    "    return scores\n",
    "\n",
    "scores = ddpg()\n",
    "\n",
    "# plot the scores\n",
    "fig = plt.figure()\n",
    "ax = fig.add_subplot(111)\n",
    "plt.plot(np.arange(len(scores)), scores)\n",
    "plt.ylabel('Score')\n",
    "plt.xlabel('Episode #')\n",
    "plt.show()"
   ]
  },
  {
   "cell_type": "markdown",
   "metadata": {},
   "source": [
    "When finished, you can close the environment."
   ]
  },
  {
   "cell_type": "code",
   "execution_count": 6,
   "metadata": {},
   "outputs": [],
   "source": [
    "env.close()"
   ]
  },
  {
   "cell_type": "markdown",
   "metadata": {},
   "source": [
    "### 4. Ideas for Future Work\n",
    "\n",
    "The implementation is essentially a partial implementation of D4PG, so a natural idea for future work is to implement the full algorithm as in the [D4PG paper](https://arxiv.org/abs/1804.08617). This would include adding a prioritized replay buffer and trying out n-step returns when training the critic. As well, it would be interesting to benchmark my implementation to other algorithms such as PPO or TRPO."
   ]
  },
  {
   "cell_type": "code",
   "execution_count": null,
   "metadata": {},
   "outputs": [],
   "source": []
  }
 ],
 "metadata": {
  "kernelspec": {
   "display_name": "drlnd",
   "language": "python",
   "name": "drlnd"
  },
  "language_info": {
   "codemirror_mode": {
    "name": "ipython",
    "version": 3
   },
   "file_extension": ".py",
   "mimetype": "text/x-python",
   "name": "python",
   "nbconvert_exporter": "python",
   "pygments_lexer": "ipython3",
   "version": "3.6.7"
  }
 },
 "nbformat": 4,
 "nbformat_minor": 2
}
